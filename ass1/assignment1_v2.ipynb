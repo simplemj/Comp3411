{
 "cells": [
  {
   "cell_type": "markdown",
   "metadata": {},
   "source": [
    "# COMP3411/9418 21T0 Assignment 1\n",
    "\n",
    "- Lecturer: Anna Trofimova\n",
    "- School of Computer Science and Engineering, UNSW Sydney\n",
    "- Last Update 13th January at 18:00pm, 2021\n",
    "$$\n",
    "% macros\n",
    "\\newcommand{\\indep}{\\perp \\!\\!\\!\\perp}\n",
    "$$"
   ]
  },
  {
   "cell_type": "markdown",
   "metadata": {},
   "source": [
    "## Student:\n",
    "Jie Mei, z5173405"
   ]
  },
  {
   "cell_type": "markdown",
   "metadata": {},
   "source": [
    "### Submission\n",
    "This interactive notebook contains the instructions to complete assignment 1; You should submit this notebook with the code and answers in one single file in .ipybn format with the name assignment1.ipybn. **Write your name and zID in the cell above** (to edit the markdown text double-click the cell).\n",
    "\n",
    "There is a maximum file size cap of 5MB, so make sure your submission does not exceed this size. The submitted notebook should contain all your source code and answers. You can add new cells and use markdown text to organise and explain your implementation/answer.\n",
    "\n",
    "Submit your files using give. On a CSE Linux machine, type the following on the command-line:"
   ]
  },
  {
   "cell_type": "raw",
   "metadata": {},
   "source": [
    "$ give cs3411 ass1 assignment1.ipynb"
   ]
  },
  {
   "cell_type": "markdown",
   "metadata": {},
   "source": [
    "The submission deadline is **22nd January at 11.59pm, 2021.**"
   ]
  },
  {
   "cell_type": "markdown",
   "metadata": {},
   "source": [
    "### Late Submission Policy \n",
    "The penalty is set at 20% per late day. This is ceiling penalty, so if your submission is marked 60/100 and it was submitted two days late, you still get 60/100. If you submit 5 days later, then the penalty is 100% and your mark will be 0."
   ]
  },
  {
   "cell_type": "markdown",
   "metadata": {},
   "source": [
    "### Plagiarism\n",
    "This is an individual assignment. Remember that **all** work submitted for this assignment must be your own **individual** work and no code\n",
    "sharing or copying is allowed. You may use code from the Internet only with suitable attribution\n",
    "of the source in your program. **Do not use public code repositories as your code might be copied.** Keep in mind that sharing parts of assignment solutions is a form of plagiarism. All submitted assignments will be run through plagiarism detection software to detect similarities to other submissions. You should carefully read the UNSW policy on academic integrity and plagiarism. \n",
    "\n",
    "### **Note: if your life is falling apart and you are tempted to plagiarize as to not fail the assignment, please send me an email instead. I would rather grant you an extention than report you to the Student Conduct and Integrity Unit**."
   ]
  },
  {
   "cell_type": "markdown",
   "metadata": {},
   "source": [
    "### Description\n",
    "\n",
    "This assignment consists of two problems presented in a puzzle game context. For the first problem, you will be implementing a path search problem along with common search algorithms and evaluating their properties. For the second problem, you will be exploring how to define and solve a constraint satisfaction problem. To implement the solutions, you have to use AIPython code that provides you with many implemented classes and examples of their use.  \n",
    "\n",
    "When working with a Jupyter notebook, you can edit the \\*.py files either in the Jupyter interface (in your browser) or with your favorite editor (e.g., PyCharm). Whenever you save a \\*.py file, the notebook will reload their content directly.\n",
    "\n",
    "The libraries that you can use (and need) in this assignment are  the following (run the cell below to import the libraries):"
   ]
  },
  {
   "cell_type": "code",
   "execution_count": 1,
   "metadata": {},
   "outputs": [],
   "source": [
    "import sys\n",
    "sys.path.insert(0, \"aipython\")\n",
    "import time\n",
    "import numpy as np\n",
    "from aipython.searchGeneric import *\n",
    "from aipython.searchProblem import *\n",
    "from aipython.cspProblem import *\n",
    "from aipython.cspSearch import *"
   ]
  },
  {
   "cell_type": "markdown",
   "metadata": {},
   "source": [
    "*Tip: If you placed the notebook correctly it should not give you any errors.*\n",
    "\n",
    "*If you think that there are other libraries you might need then send an email to the lecturer-in-charge to confirm.*"
   ]
  },
  {
   "cell_type": "markdown",
   "metadata": {},
   "source": [
    "### Part 1 - Heuristics [5 marks]\n",
    "\n",
    "This part of the assignment is based on a popular puzzle, Game of Fifteen, also known as 15-puzzle. The game consists of 15 numbered tiles on a four by four grid where one tile is missing. To solve the puzzle, the tiles must be moved so that they are ordered from 1 to 15. The goal state of the puzzle is defined as a multidimensional array of digits#, where 0 represents the missing tile, as follow:"
   ]
  },
  {
   "cell_type": "code",
   "execution_count": 2,
   "metadata": {},
   "outputs": [],
   "source": [
    "goal = [[1, 2, 3, 4], \n",
    "        [5, 6, 7, 8], \n",
    "        [9, 10, 11, 12], \n",
    "        [13, 14, 15, 0]]"
   ]
  },
  {
   "cell_type": "markdown",
   "metadata": {},
   "source": [
    "#### Task 1.1\n",
    "Edit the code below to implement a search problem class representing the Game of Fifteen that uses heuristic based on Manhattan Distance (h1). The class must be implemented by extending the class Search\\_problem. \n",
    "\n",
    "Manhattan Distance between two points $p1$ at $(x1, y1)$ and $p2$ at $(x2, y2)$ is $d_{M}(p1, p2) = |x1 - x2| + |y1 - y2|$\n",
    "\n",
    "*Tip: If you have problems understanding how to overwrite methods take a look at the implementation of Search_problem_from_explicit_graph class in searchProblem.py*\n"
   ]
  },
  {
   "cell_type": "code",
   "execution_count": 3,
   "metadata": {},
   "outputs": [],
   "source": [
    "class GameFifteenProblem(Search_problem):\n",
    "    \n",
    "    def __init__(self, start, goal):\n",
    "        start = np.array(start)\n",
    "        goal = np.array(goal)\n",
    "        self.start = start\n",
    "        self.goal = goal\n",
    "        return\n",
    "    def start_node(self):\n",
    "        \"\"\"Returns the start node\"\"\"\n",
    "        \n",
    "        return self.start\n",
    "    \n",
    "    def is_goal(self, node):\n",
    "        \"\"\"Returns True if the node is the goal, otherwise False\"\"\"\n",
    "        np_node = np.array(node)\n",
    "        np_goal = np.array(self.goal)\n",
    "        if (np_node != np_goal).any():\n",
    "            return False\n",
    "        else:\n",
    "            return True\n",
    "    \n",
    "    def neighbors(self, node):\n",
    "        \"\"\"Returns a list of the arcs for the neighbors of node, for example: \n",
    "        return [Arc(node, to_neighbor_node1, cost1), Arc(node, to_neighbor_node2, cost2)]\"\"\"\n",
    "        res = []\n",
    "        np_node = np.array(node)\n",
    "        zero_point_tuple = np.where(np_node == 0)\n",
    "        x = int(zero_point_tuple[0])\n",
    "        y = int(zero_point_tuple[1])\n",
    "        if x - 1 in range(4):\n",
    "            top = np_node.copy()\n",
    "            top[x][y] = top[x - 1][y]\n",
    "            top[x - 1][y] = 0\n",
    "            top = top.tolist()\n",
    "            tmp = Arc(node,top)\n",
    "            res.append(tmp)\n",
    "        if x + 1 in range(4):\n",
    "            down = np_node.copy()\n",
    "            down[x][y] = down[x + 1][y]\n",
    "            down[x + 1][y] = 0\n",
    "            down = down.tolist()\n",
    "            tmp = Arc(node,down)\n",
    "            res.append(tmp)\n",
    "        if y - 1 in range(4):\n",
    "            left = np_node.copy()\n",
    "            left[x][y] = left[x][y - 1]\n",
    "            left[x][y - 1] = 0\n",
    "            left = left.tolist()\n",
    "            tmp = Arc(node,left)\n",
    "            res.append(tmp)\n",
    "        if y + 1 in range(4):\n",
    "            right = np_node.copy()\n",
    "            right[x][y] = right[x][y + 1]\n",
    "            right[x][y + 1] = 0\n",
    "            right = right.tolist()\n",
    "            tmp = Arc(node,right)\n",
    "            res.append(tmp)\n",
    "        return res\n",
    "    \n",
    "    def heuristic(self, node):\n",
    "        \"\"\"Returns the heuristic value of the node \n",
    "        based on the Manhattan distance\"\"\"\n",
    "        res = 0\n",
    "        np_node = np.array(node)\n",
    "        for i in range(4):\n",
    "            for j in range(4):\n",
    "                tmp = self.goal[i][j] \n",
    "                if tmp != 0:\n",
    "                    point = np.where(np_node == tmp)\n",
    "                    x = int(point[0])\n",
    "                    y = int(point[1])\n",
    "                    distance = abs(x - i) + abs(y - j)\n",
    "                    res += distance\n",
    "        return res\n"
   ]
  },
  {
   "cell_type": "markdown",
   "metadata": {},
   "source": [
    "To validate the correctness of the problem class use the A* searcher algorithm (from searchGeneric.py) to find a solution. \n",
    "\n",
    "*Tip: The cost of the solution should be 9.*"
   ]
  },
  {
   "cell_type": "code",
   "execution_count": 4,
   "metadata": {},
   "outputs": [
    {
     "name": "stdout",
     "output_type": "stream",
     "text": [
      "11 paths have been expanded and 23 paths remain in the frontier\n",
      "Cost:  9\n"
     ]
    }
   ],
   "source": [
    "start = [[1, 2, 3, 4], \n",
    "         [9, 5, 6, 7], \n",
    "         [10, 11, 8, 0], \n",
    "         [13, 14, 15, 12]]\n",
    "puzzle = GameFifteenProblem(start, goal)\n",
    "searcher = AStarSearcher(puzzle)\n",
    "solution = searcher.search()\n",
    "print('Cost: ',  solution.cost)"
   ]
  },
  {
   "cell_type": "markdown",
   "metadata": {},
   "source": [
    "#### Task 1.2 \n",
    "Implement search problem classes representing the Game of Fifteen that use heuristics based on Euclidean Distance (h2) and the number of the inversions of the permutation (h3). The classes must be implemented by extending the class GameFifteenProblem.\n",
    "\n",
    "Euclidean distance between two points $p1$ at $(x1, y1)$ and $p2$ at $(x2, y2)$ is $d_{E}(p1, p2) =  \\sqrt{(x1-x2)^{2}+ (y1-y2)^{2}}$\n",
    "\n",
    "An inversion of a permutation $(t_{1},t_{2},...,t_{n})$ of the elements in a finite n-element set of positive integers $A=\\{1,2,...,n\\}$ is the pair $(t_{j},t_{k})$, where $j<k$ and $t_{j}>t_{k}$.\n",
    "\n",
    "$\\sum_{j=1}^{N} \\sum_{k=j}^{N}    \\{t_{j} > t_{k}: 1, otherwise: 0\\}$, where $N$ is the total number of elements and $t_{i}$ is the value of i-th element."
   ]
  },
  {
   "cell_type": "code",
   "execution_count": 5,
   "metadata": {},
   "outputs": [],
   "source": [
    "class GameFifteenProblemEuclidean(GameFifteenProblem):\n",
    "    def __init__(self, start, goal):\n",
    "        (super().__init__(start, goal))\n",
    "\n",
    "    def heuristic(self, node):\n",
    "        \"\"\"Returns the heuristic value of the node \n",
    "        based on the Euclidean distance\"\"\"\n",
    "        res = 0\n",
    "        np_node = np.array(node)\n",
    "        for i in range(4):\n",
    "            for j in range(4):\n",
    "                tmp = self.goal[i][j] \n",
    "                if tmp != 0:\n",
    "                    point = np.where(np_node == tmp)\n",
    "                    x = int(point[0])\n",
    "                    y = int(point[1])\n",
    "                    distance = np.sqrt(np.square(x-i) + np.square(y-j))\n",
    "                    res += distance\n",
    "        return res"
   ]
  },
  {
   "cell_type": "code",
   "execution_count": 6,
   "metadata": {},
   "outputs": [],
   "source": [
    "class GameFifteenProblemInversions(GameFifteenProblem):\n",
    "    def __init__(self, start, goal):\n",
    "        (super().__init__(start, goal))\n",
    "\n",
    "    def heuristic(self, node):\n",
    "        \"\"\"Returns the heuristic value of the node \n",
    "        based on the sum of the inversion number of a permutation\"\"\"\n",
    "        res = 0\n",
    "        np_node = np.array(node)\n",
    "        np_flatten = np_node.flatten()\n",
    "        node_list = np_flatten.tolist()\n",
    "        for i in range(16):\n",
    "            j = i\n",
    "            for j in range(j,16):\n",
    "                if node_list[j] != 0 and node_list[i] > node_list[j]:\n",
    "                    res += 1\n",
    "                \n",
    "        return res"
   ]
  },
  {
   "cell_type": "markdown",
   "metadata": {},
   "source": [
    "#### Task 1.3\n",
    "Run A* Search algorithm with every heuristic for the following three start states:"
   ]
  },
  {
   "cell_type": "code",
   "execution_count": 7,
   "metadata": {
    "pycharm": {
     "name": "#%%\n"
    }
   },
   "outputs": [
    {
     "name": "stdout",
     "output_type": "stream",
     "text": [
      "45 paths have been expanded and 85 paths remain in the frontier\n",
      "Cost:  14\n"
     ]
    }
   ],
   "source": [
    "# optimal path cost: 14\n",
    "start14 = [[1, 2, 8, 3],\n",
    "           [5, 6, 7, 4],\n",
    "           [9, 15, 14, 11],\n",
    "           [13, 10, 12, 0]]\n",
    "\n",
    "# optimal path cost: 17\n",
    "start17 = [[1, 3, 6, 4],\n",
    "           [5, 2, 8, 14],\n",
    "           [9, 15, 7, 0],\n",
    "           [13, 10, 12, 11]]\n",
    "\n",
    "# optimal path cost: 23\n",
    "start23 = [[1, 3, 6, 4],\n",
    "           [5, 8, 15, 14],\n",
    "           [9, 2, 7, 0],\n",
    "           [13, 10, 12, 11]]\n",
    "\n",
    "#start_time = time.time()\n",
    "puzzle = GameFifteenProblem(start14, goal)\n",
    "searcher = AStarSearcher(puzzle)\n",
    "solution = searcher.search()\n",
    "print('Cost: ',  solution.cost)\n",
    "#end_time = time.time()\n",
    "#print(\"Time: \",end_time - start_time)"
   ]
  },
  {
   "cell_type": "code",
   "execution_count": 8,
   "metadata": {},
   "outputs": [
    {
     "name": "stdout",
     "output_type": "stream",
     "text": [
      "10083 paths have been expanded and 22192 paths remain in the frontier\n",
      "Cost:  23\n"
     ]
    }
   ],
   "source": [
    "puzzle = GameFifteenProblemEuclidean(start23, goal) \n",
    "#print(puzzle.heuristic(start23))\n",
    "searcher = AStarSearcher(puzzle)\n",
    "solution = searcher.search()\n",
    "print('Cost: ',  solution.cost)"
   ]
  },
  {
   "cell_type": "code",
   "execution_count": 9,
   "metadata": {},
   "outputs": [
    {
     "name": "stdout",
     "output_type": "stream",
     "text": [
      "30 paths have been expanded and 62 paths remain in the frontier\n",
      "Cost:  14\n"
     ]
    }
   ],
   "source": [
    "puzzle = GameFifteenProblemInversions(start14, goal) \n",
    "#print(puzzle23.heuristic(start23))\n",
    "searcher = AStarSearcher(puzzle)\n",
    "solution = searcher.search()\n",
    "print('Cost: ',  solution.cost)"
   ]
  },
  {
   "cell_type": "markdown",
   "metadata": {},
   "source": [
    "In each case record in the tables below the heuristic values for the start states, the number of the expanded nodes, and the costs of the solutions."
   ]
  },
  {
   "cell_type": "markdown",
   "metadata": {},
   "source": [
    "| Heuristic | h-value: start14 | h-value: start17 | h-value: start23 |\n",
    "|-----------|------------------|------------------|------------------|\n",
    "|Manhattan  | 12                | 17                | 19                | \n",
    "|Euclidean  | 9.65                | 13.5                | 16.1                | \n",
    "|Inversions | 20                | 23                | 29                | \n",
    "\n",
    "| Heuristic | expanded: start14 | expanded: start17 | expanded: start23 |\n",
    "|-----------|-------------------|-------------------|-------------------|\n",
    "|Manhattan  | 45                 | 28                 | 617                 | \n",
    "|Euclidean  | 196                 | 309                 | 10083                 |  \n",
    "|Inversions | 30                 | 1029                 | 87774                 |  \n",
    "\n",
    "| Heuristic | path cost: start14 | path cost: start17 | path cost: start23 |\n",
    "|-----------|--------------------|--------------------|--------------------|\n",
    "|Manhattan  | 14                  | 17                  | 23                  | \n",
    "|Euclidean  | 14                  | 17                  |23                  |\n",
    "|Inversions | 14                  | 17                  | 27                  |"
   ]
  },
  {
   "cell_type": "markdown",
   "metadata": {},
   "source": [
    "Comment on the performance of the A* search algorithm with each heuristic based on the results in the tables. Explain which heuristic is better/worse and why."
   ]
  },
  {
   "cell_type": "raw",
   "metadata": {},
   "source": [
    "# answer"
   ]
  },
  {
   "cell_type": "markdown",
   "metadata": {},
   "source": [
    "### Part 2:  Search algorithms [7 marks]\n",
    "\n",
    "*Tip: If you have problems understanding how to overwrite methods take a look at the implementation of AStarSearcher and  Searcher classes in searchGeneric.py*\n",
    "\n",
    "*Tip: To initialize the frontier think of the type of structure used by the algorithm to store generated nodes. If it uses a priority queue use FrontierPQ from serachGeneric.py*\n",
    "\n",
    "#### Task 2.1\n",
    "Implement a class that performs Breadth First Search by extending class Searcher."
   ]
  },
  {
   "cell_type": "code",
   "execution_count": 10,
   "metadata": {},
   "outputs": [],
   "source": [
    "class BreadthFirstSearcher(Searcher):\n",
    "\n",
    "    def __init__(self, problem):\n",
    "        super().__init__(problem)\n",
    "\n",
    "    \"\"\" Initializes the forontier \"\"\"\n",
    "\n",
    "    def initialize_frontier(self):\n",
    "        self.frontier = []\n",
    "\n",
    "\n",
    "    \"\"\" Returns True if there are no more nodes to expand \"\"\"\n",
    "\n",
    "    def empty_frontier(self):\n",
    "        return self.frontier == []\n",
    "\n",
    "    \"\"\" Adds the path to the forontier \"\"\"\n",
    "\n",
    "    def add_to_frontier(self, path):\n",
    "        self.frontier.append(path)\n",
    "\n",
    "    \"\"\"returns (next) path from the problem's start node\n",
    "        to a goal node. \"\"\"\n",
    "\n",
    "    def search(self):\n",
    "        while not self.empty_frontier():\n",
    "            if len(self.frontier) > 1000000:\n",
    "                return \"Out of Memory\"\n",
    "            path = self.frontier.pop(0)\n",
    "            self.num_expanded += 1\n",
    "            for neighs in self.problem.neighbors(path.end()):\n",
    "                if self.problem.is_goal(neighs.to_node):\n",
    "                    self.display(1, self.num_expanded, \"paths have been expanded and\",\n",
    "                                 len(self.frontier), \"paths remain in the frontier\")\n",
    "                    path = Path(path, neighs)\n",
    "                    self.solution = path\n",
    "                    return path\n",
    "                self.add_to_frontier(Path(path, neighs))\n",
    "\n"
   ]
  },
  {
   "cell_type": "markdown",
   "metadata": {},
   "source": [
    "#### Task 2.2\n",
    "\n",
    "Implement a class that performs Iterative Deepening Search by extending class Searcher."
   ]
  },
  {
   "cell_type": "code",
   "execution_count": 11,
   "metadata": {},
   "outputs": [],
   "source": [
    "class IterativeDeepeningSearcher(Searcher):\n",
    "\n",
    "    def __init__(self, problem):\n",
    "        super().__init__(problem)\n",
    "\n",
    "    \"\"\" Initializes the forontier \"\"\"\n",
    "\n",
    "    def initialize_frontier(self):\n",
    "        self.frontier = []\n",
    "\n",
    "    \"\"\" Returns True if there are no more nodes to expand \"\"\"\n",
    "\n",
    "    def empty_frontier(self):\n",
    "        return self.frontier == []\n",
    "\n",
    "    \"\"\" Adds the path to the forontier \"\"\"\n",
    "\n",
    "    def add_to_frontier(self, path):\n",
    "        self.frontier.append(path)\n",
    "\n",
    "    def search(self):\n",
    "        depth = -1\n",
    "        while True:\n",
    "            depth += 1\n",
    "            while not self.empty_frontier():\n",
    "                path = self.frontier.pop()\n",
    "                self.num_expanded += 1\n",
    "                if self.problem.is_goal(path.end()):\n",
    "                    self.display(1, self.num_expanded, \"paths have been expanded and\",\n",
    "                                 len(self.frontier), \"paths remain in the frontier\")\n",
    "                    self.solution = path\n",
    "                    return path\n",
    "                if path.cost > depth:\n",
    "                    continue\n",
    "                for neighs in reversed(list(self.problem.neighbors(path.end()))):\n",
    "                    self.add_to_frontier(Path(path, neighs))\n",
    "            self.initialize_frontier()\n",
    "            self.add_to_frontier(Path(self.problem.start_node()))\n"
   ]
  },
  {
   "cell_type": "markdown",
   "metadata": {},
   "source": [
    "#### Task 2.3\n",
    "Implement a class that performs Iterative Deepening A* Search by extending class Searcher."
   ]
  },
  {
   "cell_type": "code",
   "execution_count": 12,
   "metadata": {},
   "outputs": [],
   "source": [
    "class IterativeDeepeningAStarSearcher(Searcher):\n",
    "    \"\"\" Initializes the forontier \"\"\"\n",
    "\n",
    "    def initialize_frontier(self):\n",
    "        self.frontier = []\n",
    "\n",
    "    \"\"\" Returns True if there are no more nodes to expand \"\"\"\n",
    "\n",
    "    def empty_frontier(self):\n",
    "        return self.frontier == []\n",
    "\n",
    "    \"\"\" Adds the path to the forontier \"\"\"\n",
    "\n",
    "    def add_to_frontier(self, path):\n",
    "        self.frontier.append(path)\n",
    "\n",
    "    def search(self):\n",
    "        thredshold = self.problem.heuristic(self.problem.start_node())\n",
    "        while True:\n",
    "            min_value = float(\"inf\")\n",
    "            while not self.empty_frontier():\n",
    "                path = self.frontier.pop()\n",
    "                self.num_expanded += 1\n",
    "                if self.problem.is_goal(path.end()):\n",
    "                    self.display(1, self.num_expanded, \"paths have been expanded and\",\n",
    "                                 len(self.frontier), \"paths remain in the frontier\")\n",
    "                    self.solution = path\n",
    "                    return path\n",
    "                fn = path.cost + self.problem.heuristic(path.end())\n",
    "                if fn > thredshold:\n",
    "                    if fn < min_value:\n",
    "                        min_value = fn\n",
    "                    continue\n",
    "                for neighs in reversed(list(self.problem.neighbors(path.end()))):\n",
    "                    self.add_to_frontier(Path(path, neighs))\n",
    "\n",
    "            thredshold = min_value\n",
    "            self.initialize_frontier()\n",
    "            self.add_to_frontier(Path(self.problem.start_node()))\n"
   ]
  },
  {
   "cell_type": "markdown",
   "metadata": {},
   "source": [
    "#### Task 2.4\n",
    "Implement a class that performs Uniform Cost Search by extending class Searcher."
   ]
  },
  {
   "cell_type": "code",
   "execution_count": 13,
   "metadata": {},
   "outputs": [],
   "source": [
    "class UniformCostSearcher(Searcher):\n",
    "    \"\"\" Initializes the forontier \"\"\"\n",
    "    def initialize_frontier(self):\n",
    "        self.frontier = FrontierPQ()\n",
    "\n",
    "    \"\"\" Returns True if there are no more nodes to expand \"\"\"\n",
    "    def empty_frontier(self):\n",
    "        return self.frontier.empty()\n",
    "\n",
    "    \"\"\" Adds the path to the forontier \"\"\"\n",
    "    def add_to_frontier(self, path):\n",
    "        value = path.cost\n",
    "        self.frontier.add(path, value)"
   ]
  },
  {
   "cell_type": "markdown",
   "metadata": {},
   "source": [
    "#### Task 2.5\n",
    "\n",
    "Run Breadth First Search (BFS), Iterative Deepenining Search (IDS), Iterative Deepening A* Search (IDA\\*S), and Uniform Cost Search (UCS) algorithms on each of the 5 start states:"
   ]
  },
  {
   "cell_type": "code",
   "execution_count": 14,
   "metadata": {},
   "outputs": [],
   "source": [
    "# optimal path cost: 10\n",
    "start10 = [[2, 3, 7, 4],\n",
    "           [1, 6, 11, 8],\n",
    "           [5, 10, 0, 12],\n",
    "           [9, 13, 14, 15]]\n",
    "\n",
    "# optimal path cost: 24\n",
    "start24 = [[2, 7, 11, 4],\n",
    "           [6, 3, 12, 0],\n",
    "           [1, 5, 15, 8],\n",
    "           [9, 10, 13, 14]]\n",
    "\n",
    "# optimal path cost: 30\n",
    "start30 = [[2, 7, 11, 4],\n",
    "           [6, 3, 12, 0],\n",
    "           [1, 5, 15, 14],\n",
    "           [9, 10, 8, 13]]\n",
    "\n",
    "# optimal path cost: 36\n",
    "start36 = [[7, 11, 12, 4],\n",
    "           [2, 3, 14, 1],\n",
    "           [6, 5, 13, 8],\n",
    "           [9, 10, 15, 0]]\n",
    "\n",
    "# optimal path cost: 41\n",
    "start41 = [[7, 11, 12, 4],\n",
    "           [2, 3, 8, 14],\n",
    "           [10, 0, 5, 1],\n",
    "           [6, 9, 13, 15]]\n",
    "\n",
    "# your code"
   ]
  },
  {
   "cell_type": "code",
   "execution_count": 15,
   "metadata": {},
   "outputs": [
    {
     "name": "stdout",
     "output_type": "stream",
     "text": [
      "Out of Memory\n"
     ]
    }
   ],
   "source": [
    "start_time1 = time.time()\n",
    "puzzle = GameFifteenProblem(start24, goal)\n",
    "searcher = BreadthFirstSearcher(puzzle)\n",
    "solution = searcher.search()\n",
    "if time.time() - start_time1 > 300:\n",
    "    searcher.search().exit()\n",
    "    print(\"Out of Time\")\n",
    "elif solution == \"Out of Memory\":\n",
    "    print(\"Out of Memory\")\n",
    "else:\n",
    "    print('Cost: ',  solution.cost)"
   ]
  },
  {
   "cell_type": "code",
   "execution_count": 16,
   "metadata": {},
   "outputs": [
    {
     "name": "stdout",
     "output_type": "stream",
     "text": [
      "2000319 paths have been expanded and 43 paths remain in the frontier\n",
      "Cost:  41\n"
     ]
    }
   ],
   "source": [
    "start_time2 = time.time()\n",
    "puzzle = GameFifteenProblem(start41, goal)\n",
    "searcher = IterativeDeepeningAStarSearcher(puzzle)\n",
    "solution = searcher.search()\n",
    "if time.time() - start_time2 > 300:\n",
    "    searcher.search().exit()\n",
    "    print(\"Out of Time\")\n",
    "elif solution == \"Out of Memory\":\n",
    "    print(\"Out of Memory\")\n",
    "else:\n",
    "    print('Cost: ',  solution.cost)"
   ]
  },
  {
   "cell_type": "markdown",
   "metadata": {},
   "source": [
    "In each case, record in the table below the number of nodes generated during the search. If the algorithm runs out of memory or the number of nodes in the frontier exceeds 1 million items, just write “Mem” in your table. If the code runs for five minutes without producing output, terminate the process and write “Time” in your table.\n",
    "\n",
    "*Tip: To edit the table double click the cell below.*"
   ]
  },
  {
   "cell_type": "markdown",
   "metadata": {},
   "source": [
    "| Algorithm | 10      | 24      | 30      | 36      | 41      |\n",
    "|-----------|---------|---------|---------|---------|---------|\n",
    "|BFS        | #       | #       | #       | #       | #       |\n",
    "|A*         | #       | #       | #       | #       | #       |\n",
    "|IDS        | #       | #       | #       | #       | #       |\n",
    "|IDA\\*S     | #       | #       | #       | #       | #       |\n",
    "|UCS        | #       | #       | #       | #       | #       |"
   ]
  },
  {
   "cell_type": "markdown",
   "metadata": {},
   "source": [
    "Discuss the time and space efficiency of these four algorithms, comment on the results in the table."
   ]
  },
  {
   "cell_type": "raw",
   "metadata": {},
   "source": [
    "# your answer"
   ]
  },
  {
   "cell_type": "markdown",
   "metadata": {},
   "source": [
    "### Part 3: Deceptive Starting States [3 marks]\n",
    "\n",
    "#### Task 3.1 \n",
    "\n",
    "Run IDA* on the starting states below and report the number of the expanded nodes."
   ]
  },
  {
   "cell_type": "code",
   "execution_count": 26,
   "metadata": {},
   "outputs": [],
   "source": [
    "start37_1 = [[7, 11, 12, 4],\n",
    "             [2, 3, 14, 1],\n",
    "             [6, 5, 13, 0],\n",
    "             [9, 10, 15, 8]]\n",
    "\n",
    "start37_2 = [[7, 11, 12, 4],\n",
    "             [2, 3, 8, 14],\n",
    "             [6, 0, 1, 15],\n",
    "             [9, 5, 10, 13]]\n",
    "# your code"
   ]
  },
  {
   "cell_type": "markdown",
   "metadata": {},
   "source": [
    "#### Task 3.2\n",
    "\n",
    "Explain why there is a difference between the number of the expanded nodes for these starting states if their costs of the optimal paths are the same."
   ]
  },
  {
   "cell_type": "raw",
   "metadata": {},
   "source": [
    "# your answer"
   ]
  },
  {
   "cell_type": "markdown",
   "metadata": {},
   "source": [
    "### Part 4:  Constraint Satisfaction Problem [5 marks]\n",
    "\n",
    "This part of the assignment is based on another puzzle called Sudoku. The game consists of 9x9 grid with a few cells filled in with digits. The objective of the game is to fill the remaining cells so that each column, each row, and each of the nine 3×3 sub-grids contain all of the digits from 1 to 9.\n",
    "\n",
    "The start state of the puzzle is defined as a multidimensional array of numbers, where 0 represents empty cells, for example:"
   ]
  },
  {
   "cell_type": "code",
   "execution_count": 28,
   "metadata": {},
   "outputs": [],
   "source": [
    "grid = [[9, 5, 0, 8, 2, 7, 3, 0, 0],\n",
    "        [0, 8, 0, 1, 4, 0, 0, 5, 0],\n",
    "        [0, 1, 0, 5, 9, 0, 0, 0, 0],\n",
    "        [8, 3, 0, 0, 0, 0, 0, 7, 5],\n",
    "        [1, 6, 9, 7, 5, 2, 4, 3, 0],\n",
    "        [0, 7, 0, 0, 8, 0, 0, 6, 0],\n",
    "        [0, 9, 1, 0, 6, 0, 8, 4, 0],\n",
    "        [7, 0, 8, 0, 3, 1, 0, 0, 6],\n",
    "        [6, 2, 0, 4, 7, 8, 0, 9, 0]]"
   ]
  },
  {
   "cell_type": "markdown",
   "metadata": {},
   "source": [
    "*Tip: If you have problems with understanding how to implement constrains take a look at cspExamples.py and cspExamplesQueens.py*"
   ]
  },
  {
   "cell_type": "markdown",
   "metadata": {},
   "source": [
    "#### Task 4.1\n",
    "\n",
    "Write the code that defines constraint(s) and a function grid_to_csp that returns a CSP for a Sudoku puzzle:"
   ]
  },
  {
   "cell_type": "code",
   "execution_count": 31,
   "metadata": {},
   "outputs": [],
   "source": [
    "# define constraint function(s)\n",
    "def check_rules(point,np_grid):\n",
    "    x = int(point[0])\n",
    "    y = int(point[1])\n",
    "    np_grid_3_3 = [np_grid[x//3*3+i][y//3*3+j] for i in range(3) for j in range(3)]\n",
    "    res = set(range(1,10)) - set(np_grid_3_3) - set(np_grid[x]) - set(list(zip(*np_grid))[y])\n",
    "\n",
    "    return res\n",
    "\n",
    "def ne(a,b):\n",
    "    return a != b\n",
    "          \n",
    "# function that returns a csp\n",
    "def grid_to_csp(grid):\n",
    "    np_grid = np.array(grid)\n",
    "    zero_point = np.where(np_grid == 0)\n",
    "    x_array = zero_point[0]\n",
    "    y_array = zero_point[1]\n",
    "    point_array = []\n",
    "    for i in range(len(x_array)):\n",
    "        point = (x_array[i], y_array[i])\n",
    "        point_array.append(point)\n",
    "    domains = {point_array[i]:check_rules(point_array[i],np_grid) for i in range(len(point_array))}\n",
    "    constraints = []\n",
    "    for i in range(9):\n",
    "        column_array = np.where(np_grid[i] == 0)\n",
    "        tuple_array = []\n",
    "        for j in column_array[0]:\n",
    "            tmp = (i, j)\n",
    "            tuple_array.append(tmp)\n",
    "        for i in range(len(tuple_array)):\n",
    "            j = i + 1\n",
    "            while j < len(tuple_array):\n",
    "                tmp = Constraint([tuple_array[i], tuple_array[j]], ne)\n",
    "                constraints.append(tmp)\n",
    "                j += 1\n",
    "\n",
    "    for i in range(3):\n",
    "        for j in range(3):\n",
    "            array = []\n",
    "            for point in point_array:\n",
    "                if (i*3 <= point[0] < (i+1)*3) and (j*3 <= point[1] < (j+1)*3):\n",
    "                    array.append(point)\n",
    "            for i in range(len(array)):\n",
    "                j = i + 1\n",
    "                while j < len(array):\n",
    "                    tmp = Constraint([array[i], array[j]], ne)\n",
    "                    constraints.append(tmp)\n",
    "                    j += 1\n",
    "\n",
    "    for i in range(9):\n",
    "        row_array = np.where(np_grid[...,i] == 0)\n",
    "        tuple_array = []\n",
    "        for j in row_array[0]:\n",
    "            tmp = (j, i)\n",
    "            tuple_array.append(tmp)\n",
    "        for i in range(len(tuple_array)):\n",
    "            j = i + 1\n",
    "            while j < len(tuple_array):\n",
    "                tmp = Constraint([tuple_array[i], tuple_array[j]], ne)\n",
    "                constraints.append(tmp)\n",
    "                j += 1\n",
    "\n",
    "    return CSP(domains, constraints)\n",
    "\n",
    "# csp\n",
    "csp = grid_to_csp(grid)"
   ]
  },
  {
   "cell_type": "markdown",
   "metadata": {},
   "source": [
    "#### Task 4.2\n",
    "\n",
    "Write the code that solves Sudoku csp using a search algorithms of your choice, print the solution."
   ]
  },
  {
   "cell_type": "code",
   "execution_count": 32,
   "metadata": {},
   "outputs": [
    {
     "name": "stdout",
     "output_type": "stream",
     "text": [
      "2866 paths have been expanded and 10 paths remain in the frontier\n",
      "{(7, 3): 9, (4, 8): 8, (5, 6): 2, (2, 8): 2, (7, 7): 2, (0, 7): 1, (1, 6): 6, (2, 5): 6, (5, 8): 1, (1, 2): 7, (3, 3): 6, (5, 5): 9, (7, 6): 5, (6, 3): 2, (1, 5): 3, (3, 6): 9, (2, 2): 3, (5, 0): 5, (8, 6): 1, (3, 2): 2, (2, 6): 7, (8, 2): 5, (7, 1): 4, (5, 2): 4, (6, 0): 3, (1, 0): 2, (0, 8): 4, (6, 5): 5, (3, 5): 4, (2, 7): 8, (5, 3): 3, (6, 8): 7, (2, 0): 4, (1, 8): 9, (8, 8): 3, (3, 4): 1, (0, 2): 6}\n"
     ]
    }
   ],
   "source": [
    "# your code\n",
    "path = Searcher(Search_from_CSP(csp)).search()\n",
    "if path is not None:\n",
    "    print(path.end())\n",
    "else:\n",
    "    print(\"No solution\")"
   ]
  },
  {
   "cell_type": "markdown",
   "metadata": {},
   "source": [
    "#### Task 4.3\n",
    "\n",
    "Descibe what do nodes represent in the search tree. Explain your choice of the search algorithm and compare it with any other search algorithm implemented in this assignemnt. "
   ]
  },
  {
   "cell_type": "raw",
   "metadata": {},
   "source": [
    "# your answer"
   ]
  }
 ],
 "metadata": {
  "kernelspec": {
   "display_name": "Python 3",
   "language": "python",
   "name": "python3"
  },
  "language_info": {
   "codemirror_mode": {
    "name": "ipython",
    "version": 3
   },
   "file_extension": ".py",
   "mimetype": "text/x-python",
   "name": "python",
   "nbconvert_exporter": "python",
   "pygments_lexer": "ipython3",
   "version": "3.7.7"
  }
 },
 "nbformat": 4,
 "nbformat_minor": 2
}
